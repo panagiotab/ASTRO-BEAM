{
 "cells": [
  {
   "cell_type": "markdown",
   "metadata": {},
   "source": [
    "Η συνάρτηση που είπαμε ότι θα λειτουργεί σαν χτένα. Για να εύκολα νούμερα z = 1/2. Η συνάρτηση για το φαινόμενο Ντόπλερ είναι z = (fo - f)/f = fo/f -1 \n",
    "-> z+1 = fo/f . Αφού έχουν ίδιο z έχουν και ίδιο z+1. Άρα χρειάζεται να τσεκάρω μονο τον λόγο fo/f -> fth/fp . "
   ]
  },
  {
   "cell_type": "code",
   "execution_count": 85,
   "metadata": {},
   "outputs": [],
   "source": [
    "import pandas as pd \n",
    "import matplotlib.pyplot as plt\n",
    "import numpy as np\n",
    "import itertools\n",
    "\n",
    "fth = np.array([3,6,9,12,15])\n",
    "fp  = np.array([2,6,10])"
   ]
  },
  {
   "cell_type": "code",
   "execution_count": 127,
   "metadata": {},
   "outputs": [],
   "source": [
    "def fitting(a,b):\n",
    "    results=[]\n",
    "    z=[0]*len(a)\n",
    "    \n",
    "    for i in range(len(a)):\n",
    "        for j in range(len(b)):\n",
    "            z[i]=b[j]/a[i]\n",
    "            c=1\n",
    "            d=1\n",
    "            while i+c<len(a) and j+d<len(b):\n",
    "                z[i+c]=b[j+d]/a[i+c]\n",
    "                if z[i]==z[i+c]:\n",
    "                    c+=1\n",
    "                    d+=1\n",
    "                if j+d > len(b):\n",
    "                    break\n",
    "                    rest = b[j+d]\n",
    "                    obs = a[i+c]\n",
    "                else:\n",
    "                    d+=1\n",
    "\n",
    "                #results.append(z)    \n",
    "    return rest, obs\n",
    "    "
   ]
  },
  {
   "cell_type": "code",
   "execution_count": 129,
   "metadata": {},
   "outputs": [
    {
     "ename": "UnboundLocalError",
     "evalue": "local variable 'rest' referenced before assignment",
     "output_type": "error",
     "traceback": [
      "\u001b[1;31m---------------------------------------------------------------------------\u001b[0m",
      "\u001b[1;31mUnboundLocalError\u001b[0m                         Traceback (most recent call last)",
      "Cell \u001b[1;32mIn[129], line 1\u001b[0m\n\u001b[1;32m----> 1\u001b[0m fo_array\u001b[38;5;241m=\u001b[39m \u001b[43mfitting\u001b[49m\u001b[43m(\u001b[49m\u001b[43mfp\u001b[49m\u001b[43m,\u001b[49m\u001b[43m \u001b[49m\u001b[43mfth\u001b[49m\u001b[43m \u001b[49m\u001b[43m)\u001b[49m\n\u001b[0;32m      3\u001b[0m \u001b[38;5;28mprint\u001b[39m(fo_array)\n",
      "Cell \u001b[1;32mIn[127], line 23\u001b[0m, in \u001b[0;36mfitting\u001b[1;34m(a, b)\u001b[0m\n\u001b[0;32m     20\u001b[0m                 d\u001b[38;5;241m+\u001b[39m\u001b[38;5;241m=\u001b[39m\u001b[38;5;241m1\u001b[39m\n\u001b[0;32m     22\u001b[0m             \u001b[38;5;66;03m#results.append(z)    \u001b[39;00m\n\u001b[1;32m---> 23\u001b[0m \u001b[38;5;28;01mreturn\u001b[39;00m \u001b[43mrest\u001b[49m, obs\n",
      "\u001b[1;31mUnboundLocalError\u001b[0m: local variable 'rest' referenced before assignment"
     ]
    }
   ],
   "source": [
    "fo_array= fitting(fp, fth )\n",
    "\n",
    "print(fo_array)"
   ]
  },
  {
   "cell_type": "code",
   "execution_count": null,
   "metadata": {},
   "outputs": [],
   "source": [
    "#def fitting(a,b):\n",
    "    #results=[]\n",
    "    #z=[0]*len(a)\n",
    "    #c=1\n",
    "    #for i in range(len(a)):\n",
    "       # for j in range(len(b)):\n",
    "            #z[i]=b[j]/a[i]\n",
    "\n",
    "            #while i+c <=len(a) and j+c+1<=1+len(b):\n",
    "              #  z[i+c]=b[j+c]/a[i+c]\n",
    "\n",
    "                #if z[i]==z[i+c]:\n",
    "                  #  d=c+1\n",
    "                   # z[i+d]=b[j+d]/a[i+d]\n",
    "\n",
    "                    #if z[i]==z[i+d] or i+d<=len(a):\n",
    "                       # i=i+1\n",
    "                    #else:\n",
    "                        # z[i+d]=b[j+d+1]/a[i+d]\n",
    "\n",
    "                #else:\n",
    "                       # z[i+c]=b[j+c+1]/a[i+c]\n",
    "        \n",
    "    \n",
    "    #return results"
   ]
  }
 ],
 "metadata": {
  "kernelspec": {
   "display_name": "Python 3",
   "language": "python",
   "name": "python3"
  },
  "language_info": {
   "codemirror_mode": {
    "name": "ipython",
    "version": 3
   },
   "file_extension": ".py",
   "mimetype": "text/x-python",
   "name": "python",
   "nbconvert_exporter": "python",
   "pygments_lexer": "ipython3",
   "version": "3.10.0"
  }
 },
 "nbformat": 4,
 "nbformat_minor": 2
}
